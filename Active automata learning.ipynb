{
 "cells": [
  {
   "cell_type": "markdown",
   "metadata": {},
   "source": [
    "# Active automata learning with LearnLib"
   ]
  },
  {
   "cell_type": "markdown",
   "metadata": {},
   "source": [
    "This is an example of active automata learning with LearnLib from python using py4j. The code is based on https://github.com/mtf90/learnlib-py4j-example."
   ]
  },
  {
   "cell_type": "markdown",
   "metadata": {},
   "source": [
    "First, we define the system under learning (SUL). This is a python implementation of SUL interface of LearnLib in Java."
   ]
  },
  {
   "cell_type": "code",
   "execution_count": 1,
   "metadata": {},
   "outputs": [],
   "source": [
    "from py4j.java_gateway import JavaGateway, CallbackServerParameters\n",
    "\n",
    "# This class represents the Python side implementation of our system under learning (SUL)\n",
    "class PySUL:\n",
    "\n",
    "    def __init__(self, gateway):\n",
    "        self.alphabet = gateway.jvm.net.automatalib.words.impl.Alphabets.characters('a', 'b')\n",
    "        self.state = 0\n",
    "\n",
    "    def pre(self):\n",
    "        self.state = 0\n",
    "\n",
    "    def post(self): pass\n",
    "\n",
    "    def step(self, sulInput):\n",
    "        if sulInput == 'b':\n",
    "            self.state = (self.state + 1) % 2\n",
    "            return 'b'\n",
    "\n",
    "        return '0' if self.state == 0 else '1'\n",
    "\n",
    "    def canFork(self):\n",
    "        return False\n",
    "\n",
    "    def fork(self): pass\n",
    "\n",
    "    class Java:\n",
    "        implements = [\"de.learnlib.api.SUL\"]"
   ]
  },
  {
   "cell_type": "markdown",
   "metadata": {},
   "source": [
    "Then, we connect to the JVM process."
   ]
  },
  {
   "cell_type": "code",
   "execution_count": 2,
   "metadata": {},
   "outputs": [],
   "source": [
    "gateway = JavaGateway(callback_server_parameters=CallbackServerParameters())"
   ]
  },
  {
   "cell_type": "markdown",
   "metadata": {},
   "source": [
    "Here is the main learning part. We use TTT algorithm for active automata learning with W method as the equivalence oracle."
   ]
  },
  {
   "cell_type": "code",
   "execution_count": 3,
   "metadata": {},
   "outputs": [],
   "source": [
    "# Instantiate our Python SUL and get the learning alphabet\n",
    "sul = PySUL(gateway)\n",
    "alphabet = sul.alphabet\n",
    "\n",
    "# Construct the membership oracle\n",
    "mq_oracle = gateway.jvm.de.learnlib.oracle.membership.SULOracle(sul)\n",
    "\n",
    "# Construct the equivalence oracle\n",
    "eq_oracle = gateway.jvm.de.learnlib.oracle.equivalence.WMethodEQOracle(mq_oracle, 3)\n",
    "\n",
    "# Construct the learning algorithm (here TTT)\n",
    "ttt = gateway.jvm.de.learnlib.algorithms.ttt.mealy.TTTLearnerMealyBuilder() \\\n",
    "    .withAlphabet(alphabet) \\\n",
    "    .withOracle(mq_oracle) \\\n",
    "    .create()\n",
    "\n",
    "# Construct the experiment, that runs the active learning loop until no more counterexamples can be found.\n",
    "experiment = gateway.jvm.de.learnlib.util.Experiment(ttt, eq_oracle, alphabet)\n",
    "experiment.run()\n",
    "\n",
    "# Get the final hypothesis of our SUL\n",
    "hyp = experiment.getFinalHypothesis()"
   ]
  },
  {
   "cell_type": "markdown",
   "metadata": {},
   "source": [
    "After the learning, we obtain the learned automaton in DOT format."
   ]
  },
  {
   "cell_type": "code",
   "execution_count": 4,
   "metadata": {},
   "outputs": [
    {
     "name": "stdout",
     "output_type": "stream",
     "text": [
      "Learned model in DOT format:\n",
      "\n",
      "digraph g {\n",
      "\n",
      "\ts0 [shape=\"circle\" label=\"s0\"];\n",
      "\ts1 [shape=\"circle\" label=\"s1\"];\n",
      "\ts0 -> s0 [label=\"a / 0\"];\n",
      "\ts0 -> s1 [label=\"b / b\"];\n",
      "\ts1 -> s1 [label=\"a / 1\"];\n",
      "\ts1 -> s0 [label=\"b / b\"];\n",
      "\n",
      "__start0 [label=\"\" shape=\"none\" width=\"0\" height=\"0\"];\n",
      "__start0 -> s0;\n",
      "}\n",
      "\n"
     ]
    }
   ],
   "source": [
    "# Construct a buffer that we will use to print results on the Python side of our setup\n",
    "string_writer = gateway.jvm.java.io.StringWriter()\n",
    "\n",
    "# Serialize the hypothesis to the DOT format and write it to the string_writer\n",
    "gateway.jvm.net.automatalib.serialization.dot.GraphDOT.write(hyp, alphabet, string_writer,\n",
    "                                                              # While varargs allow us to skip this parameter in Java, the method signature expects an array \\\n",
    "                                                              gateway.new_array(\n",
    "                                                                  gateway.jvm.net.automatalib.serialization.dot.DOTVisualizationHelper,\n",
    "                                                                  0))\n",
    "\n",
    "print(\"Learned model in DOT format:\")\n",
    "print()\n",
    "print(string_writer.toString())"
   ]
  },
  {
   "cell_type": "markdown",
   "metadata": {},
   "source": [
    "We can also directly show the states and transitions"
   ]
  },
  {
   "cell_type": "code",
   "execution_count": 5,
   "metadata": {},
   "outputs": [
    {
     "data": {
      "text/plain": [
       "[JavaObject id=o516, JavaObject id=o517]"
      ]
     },
     "execution_count": 5,
     "metadata": {},
     "output_type": "execute_result"
    }
   ],
   "source": [
    "hyp.getStates()"
   ]
  },
  {
   "cell_type": "code",
   "execution_count": 6,
   "metadata": {},
   "outputs": [
    {
     "name": "stdout",
     "output_type": "stream",
     "text": [
      "s0\n",
      "s1\n"
     ]
    }
   ],
   "source": [
    "for state in hyp.getStates():\n",
    "    print(state)"
   ]
  },
  {
   "cell_type": "code",
   "execution_count": 7,
   "metadata": {},
   "outputs": [
    {
     "data": {
      "text/plain": [
       "['a', 'b']"
      ]
     },
     "execution_count": 7,
     "metadata": {},
     "output_type": "execute_result"
    }
   ],
   "source": [
    "sul.alphabet"
   ]
  },
  {
   "cell_type": "code",
   "execution_count": 8,
   "metadata": {},
   "outputs": [
    {
     "name": "stdout",
     "output_type": "stream",
     "text": [
      "Prefix to s0: ε\n",
      "s0 --a/0--> s0\n",
      "s0 --b/b--> s1\n",
      "Prefix to s1: b\n",
      "s1 --a/1--> s1\n",
      "s1 --b/b--> s0\n"
     ]
    }
   ],
   "source": [
    "# State: http://learnlib.github.io/learnlib/maven-site/0.13.0/apidocs/de/learnlib/algorithms/ttt/base/TTTState.html\n",
    "for srcID in range(hyp.getStates().size()):\n",
    "    print(f'Prefix to {hyp.getStates()[srcID]}: {hyp.getStates()[srcID].getAccessSequence()}')\n",
    "    for charID in range(hyp.getInputAlphabet().size()):\n",
    "        transition = hyp.getTransition(srcID, charID)\n",
    "        dst = hyp.getSuccessor(transition)\n",
    "        print(f'{hyp.getStates()[srcID]} --{alphabet[charID]}/{hyp.getTransitionOutput(transition)}--> {dst}')"
   ]
  },
  {
   "cell_type": "markdown",
   "metadata": {},
   "source": [
    "Finally, we close the connection to the JVM."
   ]
  },
  {
   "cell_type": "code",
   "execution_count": 9,
   "metadata": {},
   "outputs": [],
   "source": [
    "# Close our connection\n",
    "gateway.close()"
   ]
  }
 ],
 "metadata": {
  "kernelspec": {
   "display_name": "Python 3",
   "language": "python",
   "name": "python3"
  },
  "language_info": {
   "codemirror_mode": {
    "name": "ipython",
    "version": 3
   },
   "file_extension": ".py",
   "mimetype": "text/x-python",
   "name": "python",
   "nbconvert_exporter": "python",
   "pygments_lexer": "ipython3",
   "version": "3.8.5"
  }
 },
 "nbformat": 4,
 "nbformat_minor": 4
}
