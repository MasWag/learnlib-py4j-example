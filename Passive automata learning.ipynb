{
 "cells": [
  {
   "cell_type": "markdown",
   "metadata": {},
   "source": [
    "# Passive automata learning with LearnLib"
   ]
  },
  {
   "cell_type": "markdown",
   "metadata": {},
   "source": [
    "This is an example of *passive* automata learning with LearnLib from python using py4j. See https://github.com/LearnLib/learnlib/blob/develop/examples/src/main/java/de/learnlib/examples/passive/Example1.java for the usage of the original Java version."
   ]
  },
  {
   "cell_type": "markdown",
   "metadata": {},
   "source": [
    "First, we define an auxiliary to print the learned Mealy machine."
   ]
  },
  {
   "cell_type": "code",
   "execution_count": 1,
   "metadata": {},
   "outputs": [],
   "source": [
    "def printDot(hyp, alphabet, gateway):\n",
    "    # Construct a buffer that we will use to print results on the Python side of our setup\n",
    "    string_writer = gateway.jvm.java.io.StringWriter()\n",
    "\n",
    "    # Serialize the hypothesis to the DOT format and write it to the string_writer\n",
    "    gateway.jvm.net.automatalib.serialization.dot.GraphDOT.write(hyp, alphabet, string_writer,\n",
    "                                                                  # While varargs allow us to skip this parameter in Java, the method signature expects an array \\\n",
    "                                                                  gateway.new_array(\n",
    "                                                                      gateway.jvm.net.automatalib.serialization.dot.DOTVisualizationHelper,\n",
    "                                                                      0))\n",
    "\n",
    "    print(\"Learned model in DOT format:\")\n",
    "    print()\n",
    "    print(string_writer.toString())"
   ]
  },
  {
   "cell_type": "markdown",
   "metadata": {},
   "source": [
    "Then, we define the gateway to the JVM."
   ]
  },
  {
   "cell_type": "code",
   "execution_count": 2,
   "metadata": {},
   "outputs": [],
   "source": [
    "from py4j.java_gateway import JavaGateway, CallbackServerParameters\n",
    "\n",
    "gateway = JavaGateway(callback_server_parameters=CallbackServerParameters())"
   ]
  },
  {
   "cell_type": "markdown",
   "metadata": {},
   "source": [
    "# Passive DFA learning"
   ]
  },
  {
   "cell_type": "markdown",
   "metadata": {},
   "source": [
    "Here, we learn a DFA from training data."
   ]
  },
  {
   "cell_type": "code",
   "execution_count": 3,
   "metadata": {},
   "outputs": [],
   "source": [
    "# define the alphabet\n",
    "alphabet = gateway.jvm.net.automatalib.words.impl.Alphabets.characters('a', 'b')"
   ]
  },
  {
   "cell_type": "code",
   "execution_count": 4,
   "metadata": {},
   "outputs": [],
   "source": [
    "# instantiate learner\n",
    "# alternatively one can also use the EDSM variant (BlueFringeEDSMDFA from the learnlib-rpni-edsm artifact)\n",
    "# or the MDL variant (BlueFringeMDLDFA from the learnlib-rpni-mdl artifact)\n",
    "learner = gateway.jvm.de.learnlib.algorithms.rpni.BlueFringeRPNIDFA(alphabet)"
   ]
  },
  {
   "cell_type": "markdown",
   "metadata": {},
   "source": [
    "## Initial automaton without samples"
   ]
  },
  {
   "cell_type": "code",
   "execution_count": 5,
   "metadata": {},
   "outputs": [
    {
     "name": "stdout",
     "output_type": "stream",
     "text": [
      "Learned model in DOT format:\n",
      "\n",
      "digraph g {\n",
      "\n",
      "\ts0 [shape=\"circle\" label=\"0\"];\n",
      "\n",
      "__start0 [label=\"\" shape=\"none\" width=\"0\" height=\"0\"];\n",
      "__start0 -> s0;\n",
      "}\n",
      "\n"
     ]
    }
   ],
   "source": [
    "#if no training samples have been provided, only the empty automaton can be constructed\n",
    "emptyModel = learner.computeModel()\n",
    "printDot(emptyModel, alphabet, gateway)"
   ]
  },
  {
   "cell_type": "markdown",
   "metadata": {},
   "source": [
    "## Add positive samples"
   ]
  },
  {
   "cell_type": "code",
   "execution_count": 6,
   "metadata": {},
   "outputs": [],
   "source": [
    "positiveSamples = gateway.jvm.java.util.ArrayList()\n",
    "for positiveWord in [\"aaa\", \"aaba\", \"bba\", \"bbaba\"]:\n",
    "    positiveSamples.append(gateway.jvm.net.automatalib.words.Word.fromCharSequence(positiveWord))"
   ]
  },
  {
   "cell_type": "code",
   "execution_count": 7,
   "metadata": {},
   "outputs": [
    {
     "name": "stdout",
     "output_type": "stream",
     "text": [
      "Learned model in DOT format:\n",
      "\n",
      "digraph g {\n",
      "\n",
      "\ts0 [shape=\"doublecircle\" label=\"0\"];\n",
      "\ts0 -> s0 [label=\"a\"];\n",
      "\ts0 -> s0 [label=\"b\"];\n",
      "\n",
      "__start0 [label=\"\" shape=\"none\" width=\"0\" height=\"0\"];\n",
      "__start0 -> s0;\n",
      "}\n",
      "\n"
     ]
    }
   ],
   "source": [
    "# add the positive training samples\n",
    "learner.addPositiveSamples(positiveSamples)\n",
    "# since RPNI is a greedy state-merging algorithm, providing only positive examples results in the trivial\n",
    "# one-state acceptor, because there exist no negative \"counterexamples\" that prevent state merges when\n",
    "# generalizing the initial prefix tree acceptor\n",
    "firstModel = learner.computeModel()\n",
    "printDot(firstModel, alphabet, gateway)"
   ]
  },
  {
   "cell_type": "markdown",
   "metadata": {},
   "source": [
    "## Add negative samples"
   ]
  },
  {
   "cell_type": "code",
   "execution_count": 8,
   "metadata": {},
   "outputs": [],
   "source": [
    "negativeSamples = gateway.jvm.java.util.ArrayList()\n",
    "for negativeWord in [\"a\", \"bb\", \"aab\", \"aba\"]:\n",
    "    negativeSamples.append(gateway.jvm.net.automatalib.words.Word.fromCharSequence(negativeWord))"
   ]
  },
  {
   "cell_type": "code",
   "execution_count": 9,
   "metadata": {},
   "outputs": [
    {
     "name": "stdout",
     "output_type": "stream",
     "text": [
      "Learned model in DOT format:\n",
      "\n",
      "digraph g {\n",
      "\n",
      "\ts0 [shape=\"circle\" label=\"0\"];\n",
      "\ts1 [shape=\"doublecircle\" label=\"1\"];\n",
      "\ts2 [shape=\"circle\" label=\"2\"];\n",
      "\ts0 -> s2 [label=\"a\"];\n",
      "\ts0 -> s1 [label=\"b\"];\n",
      "\ts1 -> s1 [label=\"a\"];\n",
      "\ts1 -> s2 [label=\"b\"];\n",
      "\ts2 -> s1 [label=\"a\"];\n",
      "\ts2 -> s0 [label=\"b\"];\n",
      "\n",
      "__start0 [label=\"\" shape=\"none\" width=\"0\" height=\"0\"];\n",
      "__start0 -> s0;\n",
      "}\n",
      "\n"
     ]
    }
   ],
   "source": [
    "# add negative training samples\n",
    "learner.addNegativeSamples(negativeSamples)\n",
    "\n",
    "# after adding negative samples (i.e. words that must not be accepted by the model) we get a more \"realistic\"\n",
    "# generalization of the given training set\n",
    "secondModel = learner.computeModel()\n",
    "printDot(secondModel, alphabet, gateway)"
   ]
  },
  {
   "cell_type": "markdown",
   "metadata": {},
   "source": [
    "# Passive Mealy machine learning"
   ]
  },
  {
   "cell_type": "markdown",
   "metadata": {},
   "source": [
    "Here, we learn Mealy machine from training data."
   ]
  },
  {
   "cell_type": "markdown",
   "metadata": {},
   "source": [
    "First, we define the input alphabet."
   ]
  },
  {
   "cell_type": "code",
   "execution_count": 10,
   "metadata": {},
   "outputs": [],
   "source": [
    "# define the alphabet\n",
    "alphabet = gateway.jvm.net.automatalib.words.impl.Alphabets.characters('a', 'b')"
   ]
  },
  {
   "cell_type": "code",
   "execution_count": 11,
   "metadata": {},
   "outputs": [],
   "source": [
    "# instantiate learner\n",
    "learner = gateway.jvm.de.learnlib.algorithms.rpni.BlueFringeRPNIMealy(alphabet)"
   ]
  },
  {
   "cell_type": "code",
   "execution_count": 12,
   "metadata": {},
   "outputs": [],
   "source": [
    "def addSample(learner, inputWord, outputChar):\n",
    "    learner.addSample(gateway.jvm.net.automatalib.words.Word.fromCharSequence(inputWord), \n",
    "                      gateway.jvm.net.automatalib.words.Word.fromCharSequence(outputChar))"
   ]
  },
  {
   "cell_type": "markdown",
   "metadata": {},
   "source": [
    "We define the training data `trainingData` here. `trainingData` is a list of pairs `(inputWord, outputChar)` such that the output of the SUL for the input word `inputWord` is `outputChar`."
   ]
  },
  {
   "cell_type": "code",
   "execution_count": 13,
   "metadata": {},
   "outputs": [],
   "source": [
    "trainingData = [(\"a\", \"0\"), (\"b\", \"b\"), (\"aa\", \"0\"), (\"ab\", \"b\"), (\"ba\", \"1\"), (\"bb\", \"b\"), (\"baa\", \"1\"), (\"bab\", \"b\"), (\"bba\", \"0\"), (\"bbb\", \"b\"),]"
   ]
  },
  {
   "cell_type": "code",
   "execution_count": 14,
   "metadata": {},
   "outputs": [],
   "source": [
    "for (inputWord, outputChar) in trainingData:\n",
    "    addSample(learner, inputWord, outputChar)"
   ]
  },
  {
   "cell_type": "markdown",
   "metadata": {},
   "source": [
    "We can serialize the learned Mealy machine in DOT format as follows."
   ]
  },
  {
   "cell_type": "code",
   "execution_count": 15,
   "metadata": {},
   "outputs": [
    {
     "name": "stdout",
     "output_type": "stream",
     "text": [
      "Learned model in DOT format:\n",
      "\n",
      "digraph g {\n",
      "\n",
      "\ts0 [shape=\"circle\" label=\"0\"];\n",
      "\ts1 [shape=\"circle\" label=\"1\"];\n",
      "\ts0 -> s0 [label=\"a / 0\"];\n",
      "\ts0 -> s1 [label=\"b / b\"];\n",
      "\ts1 -> s1 [label=\"a / 1\"];\n",
      "\ts1 -> s0 [label=\"b / b\"];\n",
      "\n",
      "__start0 [label=\"\" shape=\"none\" width=\"0\" height=\"0\"];\n",
      "__start0 -> s0;\n",
      "}\n",
      "\n"
     ]
    }
   ],
   "source": [
    "mealyModel = learner.computeModel()\n",
    "printDot(mealyModel, alphabet, gateway)"
   ]
  },
  {
   "cell_type": "markdown",
   "metadata": {},
   "source": [
    "The learned Mealy machine is in `CompactMealy` and we can also directly access it."
   ]
  },
  {
   "cell_type": "code",
   "execution_count": 16,
   "metadata": {},
   "outputs": [
    {
     "data": {
      "text/plain": [
       "'CompactMealy'"
      ]
     },
     "execution_count": 16,
     "metadata": {},
     "output_type": "execute_result"
    }
   ],
   "source": [
    "mealyModel.getClass().getSimpleName()"
   ]
  },
  {
   "cell_type": "code",
   "execution_count": 17,
   "metadata": {},
   "outputs": [
    {
     "name": "stdout",
     "output_type": "stream",
     "text": [
      "0 --a/0--> 0\n",
      "0 --b/b--> 1\n",
      "1 --a/1--> 1\n",
      "1 --b/b--> 0\n"
     ]
    }
   ],
   "source": [
    "hyp = mealyModel\n",
    "# State: http://learnlib.github.io/learnlib/maven-site/0.13.0/apidocs/de/learnlib/algorithms/ttt/base/TTTState.html\n",
    "# srcID is Integer\n",
    "for srcID in hyp.getStates():\n",
    "    for charID in range(hyp.getInputAlphabet().size()):\n",
    "        transition = hyp.getTransition(hyp.getStateId(srcID), charID)\n",
    "        dst = hyp.getSuccessor(transition)\n",
    "        print(f'{srcID} --{alphabet[charID]}/{hyp.getTransitionOutput(transition)}--> {dst}')"
   ]
  },
  {
   "cell_type": "code",
   "execution_count": null,
   "metadata": {},
   "outputs": [],
   "source": []
  }
 ],
 "metadata": {
  "kernelspec": {
   "display_name": "Python 3",
   "language": "python",
   "name": "python3"
  },
  "language_info": {
   "codemirror_mode": {
    "name": "ipython",
    "version": 3
   },
   "file_extension": ".py",
   "mimetype": "text/x-python",
   "name": "python",
   "nbconvert_exporter": "python",
   "pygments_lexer": "ipython3",
   "version": "3.8.5"
  }
 },
 "nbformat": 4,
 "nbformat_minor": 4
}
